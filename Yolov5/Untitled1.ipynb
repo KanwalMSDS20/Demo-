{
 "cells": [
  {
   "cell_type": "code",
   "execution_count": 3,
   "id": "e9c3bd3d",
   "metadata": {},
   "outputs": [
    {
     "ename": "SyntaxError",
     "evalue": "invalid syntax (Temp/ipykernel_14388/2353386927.py, line 12)",
     "output_type": "error",
     "traceback": [
      "\u001b[1;36m  File \u001b[1;32m\"C:\\Users\\siraj\\AppData\\Local\\Temp/ipykernel_14388/2353386927.py\"\u001b[1;36m, line \u001b[1;32m12\u001b[0m\n\u001b[1;33m    while success and vidcap.get(cv2.CAP_PROP_POS_MSEC, < start_time_ms):\u001b[0m\n\u001b[1;37m                                                        ^\u001b[0m\n\u001b[1;31mSyntaxError\u001b[0m\u001b[1;31m:\u001b[0m invalid syntax\n"
     ]
    }
   ],
   "source": [
    "import cv2\n",
    "\n",
    "\n",
    "start_time_ms = 1000\n",
    "stop_time_ms = 2000\n",
    "vidcap = cv2.VideoCapture('test.MP4')\n",
    "\n",
    "\n",
    "count = 0\n",
    "success = True\n",
    "\n",
    "while success and vidcap.get(cv2.CAP_PROP_POS_MSEC, < start_time_ms):\n",
    "    success, image = vidcap.read()\n",
    "\n",
    "while success and vidcap.get(cv2.CAP_PROP_POS_MSEC, <= stop_time_ms):\n",
    "    success, image = vidcap.read()\n",
    "    print('Read a new frame: ', success)\n",
    "    cv2.imwrite(\"image/frame%d.jpg\" % count, image)    \n",
    "    count += 1"
   ]
  },
  {
   "cell_type": "code",
   "execution_count": 5,
   "id": "98722871",
   "metadata": {},
   "outputs": [
    {
     "ename": "SyntaxError",
     "evalue": "invalid syntax (Temp/ipykernel_14388/826935560.py, line 8)",
     "output_type": "error",
     "traceback": [
      "\u001b[1;36m  File \u001b[1;32m\"C:\\Users\\siraj\\AppData\\Local\\Temp/ipykernel_14388/826935560.py\"\u001b[1;36m, line \u001b[1;32m8\u001b[0m\n\u001b[1;33m    need to modify this\u001b[0m\n\u001b[1;37m          ^\u001b[0m\n\u001b[1;31mSyntaxError\u001b[0m\u001b[1;31m:\u001b[0m invalid syntax\n"
     ]
    }
   ],
   "source": [
    "import cv2\n",
    "\n",
    "import os\n",
    "\n",
    "cap = cv2.VideoCapture('C:\\\\Users\\\\siraj\\\\UB_prototypes\\\\Yolo projects\\\\Yolov5\\\\test.MP4')\n",
    "\n",
    "time_skips = float(2000) #skip every 2 seconds. You \n",
    "need to modify this\n",
    "\n",
    "count = 0\n",
    "success,image = cap.read()\n",
    "while success:\n",
    "    cv2.imwrite(\"frame%d.jpg\" % count, image)     \n",
    "    cap.set(cv2.CAP_PROP_POS_MSEC, \n",
    "    (count*time_skips))    \n",
    "    # move the time\n",
    "    success,image = cap.read()\n",
    "    count += 1\n",
    "\n",
    "# release after reading    \n",
    "cap.release()"
   ]
  },
  {
   "cell_type": "code",
   "execution_count": 7,
   "id": "de61d7a8",
   "metadata": {},
   "outputs": [],
   "source": [
    "import cv2\n",
    "start_time_ms = 120000\n",
    "stop_time_ms = 150000\n",
    "vidcap = cv2.VideoCapture('test.MP4')\n",
    "\n",
    "count = 0\n",
    "success = True\n",
    "vidcap.set(cv2.CAP_PROP_POS_MSEC,start_time_ms)\n",
    "while success and vidcap.get(cv2.CAP_PROP_POS_MSEC) <= stop_time_ms:\n",
    "    success, image = vidcap.read()\n",
    "    print('Read a new frame: ', success)\n",
    "    cv2.imwrite(\"image\\\\frame%d.jpg\" % count, image)    \n",
    "    count += 1"
   ]
  },
  {
   "cell_type": "code",
   "execution_count": null,
   "id": "3275e479",
   "metadata": {},
   "outputs": [],
   "source": []
  }
 ],
 "metadata": {
  "kernelspec": {
   "display_name": "Python 3 (ipykernel)",
   "language": "python",
   "name": "python3"
  },
  "language_info": {
   "codemirror_mode": {
    "name": "ipython",
    "version": 3
   },
   "file_extension": ".py",
   "mimetype": "text/x-python",
   "name": "python",
   "nbconvert_exporter": "python",
   "pygments_lexer": "ipython3",
   "version": "3.7.8"
  }
 },
 "nbformat": 4,
 "nbformat_minor": 5
}
